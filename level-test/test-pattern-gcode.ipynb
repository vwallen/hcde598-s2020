{
 "cells": [
  {
   "cell_type": "code",
   "execution_count": 66,
   "metadata": {},
   "outputs": [],
   "source": [
    "import xml.etree.ElementTree as ET\n",
    "ns = \"{http://www.w3.org/2000/svg}\""
   ]
  },
  {
   "cell_type": "code",
   "execution_count": 67,
   "metadata": {},
   "outputs": [],
   "source": [
    "tree = ET.parse('test-pattern.svg')\n",
    "svg = tree.getroot()"
   ]
  },
  {
   "cell_type": "code",
   "execution_count": 68,
   "metadata": {},
   "outputs": [],
   "source": [
    "points = list(svg.findall(f\"./{ns}g[@id='points']/{ns}circle\"))\n",
    "points.sort(key=lambda p: p.attrib['id'])"
   ]
  },
  {
   "cell_type": "code",
   "execution_count": 69,
   "metadata": {},
   "outputs": [],
   "source": [
    "def define_point(p):\n",
    "    x  = p.attrib['cx']\n",
    "    y  = p.attrib['cy']\n",
    "    id = p.attrib['id'].upper()\n",
    "    gcode =  \"G1 Z5 ; Lift Z axis\\n\" + \\\n",
    "            f\"G1 X{x} Y{y} ; Move to {id}\\n\" + \\\n",
    "             \"G1 Z0 ; Lower Z axis\\n\" + \\\n",
    "             \"M0 ; Pause print\\n\\n\"\n",
    "    return gcode"
   ]
  },
  {
   "cell_type": "code",
   "execution_count": 70,
   "metadata": {},
   "outputs": [],
   "source": [
    "pattern_repetitions = 3\n",
    "position_gcode = \"\"\n",
    "for n in range(pattern_repetitions):\n",
    "    for p in points:\n",
    "        position_gcode += define_point(p)\n",
    "        \n",
    "test_gcode = f\"\"\"\n",
    "; Bed leveling Ender 3 by ingenioso3D\n",
    "; Modified by elproducts CHEP FilamentFriday.com\n",
    "; Modified by Victor Allen vwallen@uw.edu\n",
    "G90\n",
    "\n",
    "G28 ; Home all axis\n",
    "\n",
    "{position_gcode}\n",
    "\n",
    "G28;\n",
    "M84 ; disable motors\n",
    "\"\"\"\n",
    "\n",
    "with open(\"VWA_level_test.gcode\", \"w\") as outfile:\n",
    "    outfile.write(test_gcode)"
   ]
  }
 ],
 "metadata": {
  "kernelspec": {
   "display_name": "Python 3",
   "language": "python",
   "name": "python3"
  },
  "language_info": {
   "codemirror_mode": {
    "name": "ipython",
    "version": 3
   },
   "file_extension": ".py",
   "mimetype": "text/x-python",
   "name": "python",
   "nbconvert_exporter": "python",
   "pygments_lexer": "ipython3",
   "version": "3.7.5"
  }
 },
 "nbformat": 4,
 "nbformat_minor": 4
}
